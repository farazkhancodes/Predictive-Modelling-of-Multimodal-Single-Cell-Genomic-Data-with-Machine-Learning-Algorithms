{
 "cells": [
  {
   "cell_type": "markdown",
   "metadata": {},
   "source": [
    "# Convert Multiome Data To Sparse Matrix"
   ]
  },
  {
   "cell_type": "code",
   "execution_count": null,
   "metadata": {
    "execution": {
     "iopub.execute_input": "2022-08-27T00:48:04.242673Z",
     "iopub.status.busy": "2022-08-27T00:48:04.241238Z",
     "iopub.status.idle": "2022-08-27T00:49:11.665804Z",
     "shell.execute_reply": "2022-08-27T00:49:11.664489Z",
     "shell.execute_reply.started": "2022-08-27T00:48:04.242624Z"
    }
   },
   "outputs": [],
   "source": [
    "!pip install pytables -y"
   ]
  },
  {
   "cell_type": "code",
   "execution_count": null,
   "metadata": {
    "execution": {
     "iopub.execute_input": "2022-08-27T00:50:24.922684Z",
     "iopub.status.busy": "2022-08-27T00:50:24.922027Z",
     "iopub.status.idle": "2022-08-27T00:50:24.929579Z",
     "shell.execute_reply": "2022-08-27T00:50:24.928066Z",
     "shell.execute_reply.started": "2022-08-27T00:50:24.922632Z"
    }
   },
   "outputs": [],
   "source": [
    "import pandas as pd\n",
    "import numpy as np\n",
    "import scipy.sparse"
   ]
  },
  {
   "cell_type": "markdown",
   "metadata": {},
   "source": [
    "# Conversion Functions"
   ]
  },
  {
   "cell_type": "code",
   "execution_count": null,
   "metadata": {},
   "outputs": [],
   "source": [
    "def convert_to_parquet(filename, out_filename):\n",
    "    df = pd.read_csv(filename)\n",
    "    df.to_parquet(out_filename + \".parquet\")"
   ]
  },
  {
   "cell_type": "code",
   "execution_count": null,
   "metadata": {
    "execution": {
     "iopub.execute_input": "2022-08-27T00:35:30.992275Z",
     "iopub.status.busy": "2022-08-27T00:35:30.991692Z",
     "iopub.status.idle": "2022-08-27T00:35:31.004102Z",
     "shell.execute_reply": "2022-08-27T00:35:31.003112Z",
     "shell.execute_reply.started": "2022-08-27T00:35:30.992227Z"
    }
   },
   "outputs": [],
   "source": [
    "import scipy\n",
    "def convert_h5_to_sparse_csr(filename, out_filename, chunksize=2500):\n",
    "    start = 0\n",
    "    total_rows = 0\n",
    "\n",
    "    sparse_chunks_data_list = []\n",
    "    chunks_index_list = []\n",
    "    columns_name = None\n",
    "    while True:\n",
    "        df_chunk = pd.read_hdf(filename, start=start, stop=start+chunksize)\n",
    "        if len(df_chunk) == 0:\n",
    "            break\n",
    "        chunk_data_as_sparse = scipy.sparse.csr_matrix(df_chunk.to_numpy())\n",
    "        sparse_chunks_data_list.append(chunk_data_as_sparse)\n",
    "        chunks_index_list.append(df_chunk.index.to_numpy())\n",
    "\n",
    "        if columns_name is None:\n",
    "            columns_name = df_chunk.columns.to_numpy()\n",
    "        else:\n",
    "            assert np.all(columns_name == df_chunk.columns.to_numpy())\n",
    "\n",
    "        total_rows += len(df_chunk)\n",
    "        print(total_rows)\n",
    "        if len(df_chunk) < chunksize: \n",
    "            del df_chunk\n",
    "            break\n",
    "        del df_chunk\n",
    "        start += chunksize\n",
    "        \n",
    "    all_data_sparse = scipy.sparse.vstack(sparse_chunks_data_list)\n",
    "    del sparse_chunks_data_list\n",
    "    \n",
    "    all_indices = np.hstack(chunks_index_list)\n",
    "    \n",
    "    scipy.sparse.save_npz(out_filename+\"_values.sparse\", all_data_sparse)\n",
    "    np.savez(out_filename+\"_idxcol.npz\", index=all_indices, columns =columns_name)\n",
    "    \n",
    "    \n"
   ]
  },
  {
   "cell_type": "markdown",
   "metadata": {},
   "source": [
    "# H5 -> Sparse Conversion"
   ]
  },
  {
   "cell_type": "code",
   "execution_count": null,
   "metadata": {},
   "outputs": [],
   "source": [
    "convert_h5_to_sparse_csr(\"./Data/train_multi_targets.h5\", \"./Data/train_multi_targets\")"
   ]
  },
  {
   "cell_type": "code",
   "execution_count": null,
   "metadata": {},
   "outputs": [],
   "source": [
    "convert_h5_to_sparse_csr(\"./Data/train_multi_inputs.h5\", \"./Data/train_multi_inputs\")"
   ]
  },
  {
   "cell_type": "code",
   "execution_count": null,
   "metadata": {},
   "outputs": [],
   "source": [
    "convert_h5_to_sparse_csr(\"./Data/test_multi_inputs.h5\", \"./Data/test_multi_inputs\")"
   ]
  }
 ],
 "metadata": {
  "kernelspec": {
   "display_name": "Python 3 (ipykernel)",
   "language": "python",
   "name": "python3"
  },
  "language_info": {
   "codemirror_mode": {
    "name": "ipython",
    "version": 3
   },
   "file_extension": ".py",
   "mimetype": "text/x-python",
   "name": "python",
   "nbconvert_exporter": "python",
   "pygments_lexer": "ipython3",
   "version": "3.12.0"
  }
 },
 "nbformat": 4,
 "nbformat_minor": 4
}
